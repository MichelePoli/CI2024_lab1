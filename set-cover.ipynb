{
 "cells": [
  {
   "cell_type": "markdown",
   "metadata": {},
   "source": [
    "Copyright **`(c)`** 2024 Giovanni Squillero `<giovanni.squillero@polito.it>`  \n",
    "[`https://github.com/squillero/computational-intelligence`](https://github.com/squillero/computational-intelligence)  \n",
    "Free for personal or classroom use; see [`LICENSE.md`](https://github.com/squillero/computational-intelligence/blob/master/LICENSE.md) for details.  "
   ]
  },
  {
   "cell_type": "markdown",
   "metadata": {},
   "source": [
    "# Set Cover problem\n",
    "\n",
    "See: https://en.wikipedia.org/wiki/Set_cover_problem"
   ]
  },
  {
   "cell_type": "code",
   "execution_count": 196,
   "metadata": {},
   "outputs": [],
   "source": [
    "# Instance\tUniverse size\tNum sets\tDensity\n",
    "# 1\t100\t10\t.2\n",
    "# 2\t1,000\t100\t.2\n",
    "# 3\t10,000\t1,000\t2\n",
    "# 4\t100,000\t10,000\t.1\n",
    "# 5\t100,000\t10,000\t\n",
    "# 6\t100,000\t10,000\t.3\n",
    "\n"
   ]
  },
  {
   "cell_type": "code",
   "execution_count": 197,
   "metadata": {},
   "outputs": [],
   "source": [
    "from random import random, seed\n",
    "from itertools import product\n",
    "import numpy as np\n",
    "\n",
    "from icecream import ic\n",
    "from matplotlib import pyplot as plt\n",
    "from itertools import accumulate\n"
   ]
  },
  {
   "cell_type": "markdown",
   "metadata": {},
   "source": [
    "## Reproducible Initialization\n",
    "\n",
    "If you want to get reproducible results, use `rng` (and restart the kernel); for non-reproducible ones, use `np.random`."
   ]
  },
  {
   "cell_type": "code",
   "execution_count": 198,
   "metadata": {},
   "outputs": [],
   "source": [
    "UNIVERSE_SIZE = 10000\n",
    "NUM_SETS = 1000\n",
    "DENSITY = 0.2 # 20% of the elements are in each set\n",
    "\n",
    "rng = np.random.Generator(np.random.PCG64([UNIVERSE_SIZE, NUM_SETS, int(10_000 * DENSITY)])) #rng is the random number generator, so we can use it to generate random numbers"
   ]
  },
  {
   "cell_type": "code",
   "execution_count": 199,
   "metadata": {},
   "outputs": [],
   "source": [
    "# DON'T EDIT THESE LINES!\n",
    "\n",
    "SETS = np.random.random((NUM_SETS, UNIVERSE_SIZE)) < DENSITY #generate the sets\n",
    "for s in range(UNIVERSE_SIZE): #ensure that each element is in at least one set\n",
    "    if not np.any(SETS[:, s]): #if the element is not in any set\n",
    "        SETS[np.random.randint(NUM_SETS), s] = True #add it to a random set \n",
    "COSTS = np.power(SETS.sum(axis=1), 1.1) #compute the costs of each set #the costs? -> the number of elements in the set to the power of 1.1"
   ]
  },
  {
   "cell_type": "markdown",
   "metadata": {},
   "source": [
    "## Helper Functions"
   ]
  },
  {
   "cell_type": "code",
   "execution_count": 200,
   "metadata": {},
   "outputs": [],
   "source": [
    "def valid(solution):\n",
    "    phenotype = np.logical_or.reduce(SETS[solution]) \n",
    "    return np.all(phenotype)\n",
    "\n",
    "def cost(solution):\n",
    "    \"\"\"Returns the cost of a solution (to be minimized)\"\"\"\n",
    "    return COSTS[solution].sum() #return the sum of the costs of the sets in the solution "
   ]
  },
  {
   "cell_type": "markdown",
   "metadata": {},
   "source": [
    "## Have Fun!"
   ]
  },
  {
   "cell_type": "code",
   "execution_count": 201,
   "metadata": {},
   "outputs": [],
   "source": [
    "def fitness(solution: np.ndarray): \n",
    "    return (valid(solution), -cost(solution)) "
   ]
  },
  {
   "cell_type": "code",
   "execution_count": 202,
   "metadata": {},
   "outputs": [
    {
     "data": {
      "text/plain": [
       "(True, 4273457.137346888)"
      ]
     },
     "execution_count": 202,
     "metadata": {},
     "output_type": "execute_result"
    }
   ],
   "source": [
    "# A dumb solution of \"all\" sets\n",
    "solution = np.full(NUM_SETS, True) \n",
    "valid(solution), cost(solution) \n"
   ]
  },
  {
   "cell_type": "code",
   "execution_count": 203,
   "metadata": {},
   "outputs": [
    {
     "name": "stdout",
     "output_type": "stream",
     "text": [
      "solution: [ True  True  True  True False False  True  True False  True  True  True\n",
      " False  True  True  True False False False False  True False False  True\n",
      "  True  True  True  True False  True False  True False  True  True False\n",
      "  True False False False  True False  True False False False  True False\n",
      " False  True  True False False  True  True False  True  True False False\n",
      " False False  True False  True False False False False  True False False\n",
      "  True False False  True  True  True False  True  True False False  True\n",
      "  True False  True  True  True False  True False  True  True  True False\n",
      " False False False  True  True False False False False  True  True False\n",
      " False False False  True False  True False  True  True False  True  True\n",
      " False False False False  True  True  True  True False  True  True  True\n",
      "  True  True False  True  True  True False  True False False False  True\n",
      " False  True  True False  True  True  True  True False False False  True\n",
      "  True False  True False  True  True  True False False False  True False\n",
      "  True  True False False  True  True  True  True False  True  True  True\n",
      " False False  True  True  True  True False False  True  True  True  True\n",
      " False  True  True  True  True  True False  True  True False False False\n",
      " False False False False False False False  True False False False  True\n",
      "  True False False  True  True False  True False  True False  True False\n",
      "  True False False  True  True  True  True  True  True  True  True  True\n",
      "  True  True  True False  True  True  True False  True  True  True False\n",
      " False False  True  True  True False False False  True  True False  True\n",
      " False  True  True False False False  True False False  True False False\n",
      "  True  True False  True  True  True False False  True False  True  True\n",
      " False  True False False  True  True False  True False False  True  True\n",
      " False  True False False False False False  True  True False False False\n",
      " False  True  True  True False False  True  True  True False False  True\n",
      "  True False  True  True False  True False False False  True  True  True\n",
      "  True False  True  True  True False  True  True False False  True  True\n",
      " False False  True False False  True  True False False False  True False\n",
      " False False  True False False  True False  True  True False  True  True\n",
      " False  True False  True  True False  True  True False False False False\n",
      "  True False False False False False False  True  True False False False\n",
      "  True False  True False False False  True False  True False  True  True\n",
      " False False False  True  True False False False  True False  True False\n",
      " False  True False False  True False False False  True  True False False\n",
      "  True  True False False False False  True False  True  True  True False\n",
      " False False False False False  True False False  True False  True  True\n",
      "  True False  True  True  True  True  True  True False  True False False\n",
      "  True False False  True  True False  True False  True False False  True\n",
      " False False False False  True False  True  True  True  True  True  True\n",
      " False  True False False  True False  True  True  True False False  True\n",
      "  True  True  True False False False  True  True  True  True False False\n",
      "  True False  True False  True False False False False False False False\n",
      " False  True  True False False  True False False False False False  True\n",
      " False  True False False  True False  True False  True False False  True\n",
      "  True  True False False  True False  True False False  True False  True\n",
      " False False False False False False False False  True  True  True False\n",
      " False False False  True False False False  True False False  True False\n",
      "  True False False  True False False False  True False  True False  True\n",
      " False  True  True False  True False  True False  True  True False False\n",
      " False  True  True  True  True  True  True False False  True  True  True\n",
      "  True  True False False  True  True  True  True  True  True False False\n",
      " False False False  True  True  True  True  True  True  True  True  True\n",
      "  True  True False False False  True  True False  True False False False\n",
      "  True  True  True False False False False  True  True False False  True\n",
      "  True False False False False False  True  True False  True False  True\n",
      " False False False False False  True  True  True False  True False  True\n",
      " False False  True  True False  True  True  True  True False  True False\n",
      "  True False  True  True  True False  True False  True False  True  True\n",
      "  True  True False  True  True False  True  True False False  True  True\n",
      " False False False  True False False False False False False False False\n",
      "  True  True  True  True False False False False  True False False False\n",
      "  True False False False  True  True False  True  True  True  True  True\n",
      " False False  True False  True  True  True False False False  True  True\n",
      " False  True  True  True  True False False False  True  True False False\n",
      "  True  True False  True False  True  True  True  True  True  True  True\n",
      "  True  True False False  True False  True  True False  True  True False\n",
      " False  True False False  True  True  True False False False False  True\n",
      "  True  True False  True False False False False False  True False  True\n",
      "  True  True  True  True False  True  True  True  True False False False\n",
      " False False False  True False False False False  True False False False\n",
      " False  True  True False  True False  True False  True False False False\n",
      " False False False False False False  True  True  True  True  True  True\n",
      " False  True  True  True False False False  True False False  True False\n",
      " False  True  True False False False  True  True  True  True False False\n",
      "  True  True False  True  True False  True  True  True  True  True  True\n",
      " False False False False  True  True False False False False  True  True\n",
      " False False  True False  True False  True  True  True  True False  True\n",
      "  True  True  True  True False  True  True  True False  True False False\n",
      "  True False False  True False False  True False False  True False False\n",
      "  True  True  True False  True  True False False  True False  True False\n",
      " False False False False  True  True False  True False False False  True\n",
      "  True  True  True False]\n"
     ]
    },
    {
     "data": {
      "text/plain": [
       "(True, 2136475.672200265)"
      ]
     },
     "execution_count": 203,
     "metadata": {},
     "output_type": "execute_result"
    }
   ],
   "source": [
    "# A random solution with random 50% of the sets\n",
    "solution = rng.random(NUM_SETS) < .5 #generate a random solution. Each set is in the solution with 50% probability\n",
    "print(\"solution:\", solution)\n",
    "valid(solution), cost(solution)\n",
    "\n"
   ]
  },
  {
   "cell_type": "code",
   "execution_count": 204,
   "metadata": {},
   "outputs": [],
   "source": [
    "# def greedy_set_cover(SETS, UNIVERSE_SIZE):\n",
    "#     uncovered = np.ones(UNIVERSE_SIZE, dtype=bool)  \n",
    "#     selected_sets = []  \n",
    "    \n",
    "#     while np.any(uncovered):\n",
    "#         best_set_idx = None\n",
    "#         best_coverage = 0\n",
    "        \n",
    "#         for i, set_i in enumerate(SETS): #enumerate? -> returns an enumerate object. It contains the index and value of all the items in the set as pairs. example: enumerate(sets) -> [(0, [True, True, False]), (1, [True, False, True]), (2, [False, True, True])]\n",
    "#             coverage = np.sum(uncovered & set_i)  #!! Count how many uncovered elements this set can cover #example -> uncovered = [True, True, True], set_i = [True, True, False], uncovered & set_i = [True, True, False] -> np.sum([True, True, False]) = 2\n",
    "#             if coverage > best_coverage: \n",
    "#                 best_coverage = coverage \n",
    "#                 best_set_idx = i #store the index of the set that covers the most uncovered elements\n",
    "        \n",
    "#         if best_set_idx is None: #if there is no set that covers any remaining elements \n",
    "#             # If no set can cover any remaining elements, it's impossible to cover the universe\n",
    "#             raise ValueError(\"No valid set cover found!\")\n",
    "        \n",
    "#         # Add the best set to the solution and update the uncovered elements\n",
    "#         selected_sets.append(best_set_idx) #add the index of the best set to the selected sets\n",
    "#         uncovered = uncovered & ~SETS[best_set_idx]  # Mark elements covered by this set as covered (False) #update the uncovered elements by removing the elements that are covered by the best set #example -> uncovered = [True, True, True], SETS[best_set_idx] = [True, True, False], ~SETS[best_set_idx] = [False, False, True], uncovered & ~SETS[best_set_idx] = [True, True, False]\n",
    "#     print(\"\\nselected sets:\", SETS[selected_sets]) \n",
    "#     return selected_sets #return the indices of the selected sets. if we want to return the matrix with the selected sets we can use SETS[selected_sets]\n",
    "\n",
    "# #we take the set that covers the most uncovered elements. \n",
    "\n",
    "\n"
   ]
  },
  {
   "cell_type": "code",
   "execution_count": 205,
   "metadata": {},
   "outputs": [],
   "source": [
    "# # Compute the solution using the greedy algorithm\n",
    "# solution_indices = greedy_set_cover(SETS, UNIVERSE_SIZE)\n",
    "\n",
    "# # Check if the solution is valid and compute its cost\n",
    "# print(\"\\nSelected sets - indexes:\", solution_indices)\n",
    "# print(\"\\nSelected sets - len indexes:\", len(solution_indices))\n",
    "# is_valid = valid(solution_indices)\n",
    "# solution_cost = cost(solution_indices)\n",
    "\n",
    "# print(f\"\\nIs the solution valid? {is_valid}\")\n",
    "# print(f\"Total cost of the solution: {solution_cost}\")\n",
    "\n",
    "# print(SETS)\n"
   ]
  },
  {
   "cell_type": "code",
   "execution_count": 206,
   "metadata": {},
   "outputs": [],
   "source": [
    "def multiple_mutation_strength(solution: np.ndarray, strenght: float = 0.3) -> np.ndarray:\n",
    "    mask = rng.random(NUM_SETS) < strenght #rng.random(NUM_SETS) genera dei numeri casuali tra 0 e 1, vettore di dimensione pari a num_sets. Se il numero è minore di strength, allora la cella corrispondente in mask è True\n",
    "    #se aumento la strength, aumenta la probabilità che la cella in mask sia True e quindi che più mutazioni avvengano. si incoraggia di più l'esplorazione. (la miglior soluzione trovata sta sempre nel buffer in memoria)\n",
    "    if not np.any(mask):\n",
    "        mask[np.random.randint(NUM_SETS)] = True\n",
    "    new_sol = np.logical_xor(solution, mask) #se la cella è True, la cambia in False e viceversa\n",
    "    return new_sol #it's an array of booleans , dimension = num_sets\n"
   ]
  },
  {
   "cell_type": "code",
   "execution_count": 207,
   "metadata": {},
   "outputs": [],
   "source": [
    "#instead of using a greedy algorithm and analyze each set in order starting from the first until the last, we want to check sets randomly. or for example starting from the smallest set.\n",
    "\n",
    "def give_solution(SETS,UNIVERSE_SIZE):\n",
    "    uncovered = np.ones(UNIVERSE_SIZE, dtype=bool)  \n",
    "    selected_sets = [] \n",
    "    costs = []  # To track cost at each step\n",
    "    \n",
    "    # Calculate the sum of each set (how many elements each set can cover)\n",
    "    set_sizes = np.sum(SETS, axis=1)\n",
    "\n",
    "    # Sort indices of sets in ascending order based on their size (from smallest to largest set)\n",
    "    sorted_indices = np.argsort(set_sizes) \n",
    "\n",
    "    # Now iterate over the sets in the sorted order\n",
    "    for set_idx in sorted_indices: \n",
    "        if not np.any(uncovered):  # If no elements remain uncovered, break early\n",
    "            break\n",
    "        \n",
    "        coverage = np.sum(uncovered & SETS[set_idx])  # Count how many uncovered elements this set can cover\n",
    "        if coverage > 0:\n",
    "            selected_sets.append(set_idx)  # Select this set\n",
    "            uncovered = uncovered & ~SETS[set_idx]  # Update the uncovered elements\n",
    "            solution[set_idx] = 1 \n",
    "            # Track the cost after selecting this set\n",
    "            current_cost = cost(selected_sets)  # Assuming you have a cost function\n",
    "            costs.append(current_cost)  # Append current cost to the list of costs\n",
    "    \n",
    "    \n",
    "    # Check if we have successfully covered all elements in the universe\n",
    "    if np.any(uncovered):\n",
    "        raise ValueError(\"No valid set cover found! Some elements remain uncovered.\")\n",
    "    \n",
    "    #print(\"\\nSelected sets:\", SETS[selected_sets])  # Print the sets that have been selected\n",
    "    return solution  #,costs  # Return both the indices of the selected sets and the costs"
   ]
  },
  {
   "cell_type": "code",
   "execution_count": 208,
   "metadata": {},
   "outputs": [
    {
     "name": "stderr",
     "output_type": "stream",
     "text": [
      "ic| fitness(solution): (True, -2230240.123289478)\n",
      "ic| fitness(solution): (True, -132103.53889371903)\n"
     ]
    },
    {
     "data": {
      "image/png": "[encoded data removed]",
      "text/plain": [
       "<Figure size 1400x800 with 1 Axes>"
      ]
     },
     "metadata": {},
     "output_type": "display_data"
    }
   ],
   "source": [
    "BUFFER_SIZE = 13\n",
    "\n",
    "solution = give_solution(SETS,UNIVERSE_SIZE) \n",
    "#ic(solution)\n",
    "solution_fitness = fitness(solution)\n",
    "history = [float(solution_fitness[1])] #plot of the cost\n",
    "ic(fitness(solution))\n",
    "\n",
    "strength = 0.5\n",
    "buffer = list()\n",
    "for steps in range(10_000):\n",
    "    # # SELF-ADAPTIVE PARAMETER\n",
    "    # # The parameter adapt with the algorithm automatically.\n",
    "    new_solution = multiple_mutation_strength(solution, strength)\n",
    "    f = fitness(new_solution)\n",
    "    history.append(float(f[1]))\n",
    "    buffer.append(f > solution_fitness)\n",
    "    buffer = buffer[-BUFFER_SIZE:] # keep only the last 13 elements. Create an array of 13 elements. There are both True and false. \n",
    "    \n",
    "    if sum(buffer) > BUFFER_SIZE /2: #if more than half of the elements are True, increase the strength. sum(buffer) is the number of True elements.\n",
    "        strength *= 1.2 # strength viene aumentato di un fattore del 20% (strength *= 1.2). In questo modo, si incoraggia l'esplorazione con variazioni maggiori.\n",
    "    elif sum(buffer) < BUFFER_SIZE /2:\n",
    "        strength /= 1.2\n",
    "        \n",
    "    if f > solution_fitness:\n",
    "        solution = new_solution\n",
    "        solution_fitness = fitness(solution)\n",
    "        #ic(fitness(solution))\n",
    "          \n",
    "#ic(solution)\n",
    "ic(fitness(solution))\n",
    "\n",
    "plt.figure(figsize=(14, 8))\n",
    "plt.plot(\n",
    "    range(len(history)),\n",
    "    list(accumulate(history, max)),\n",
    "    color=\"red\",\n",
    ")\n",
    "_ = plt.scatter(range(len(history)), history, marker=\".\")\n"
   ]
  }
 ],
 "metadata": {
  "kernelspec": {
   "display_name": "Python 3 (ipykernel)",
   "language": "python",
   "name": "python3"
  },
  "language_info": {
   "codemirror_mode": {
    "name": "ipython",
    "version": 3
   },
   "file_extension": ".py",
   "mimetype": "text/x-python",
   "name": "python",
   "nbconvert_exporter": "python",
   "pygments_lexer": "ipython3",
   "version": "3.8.10"
  }
 },
 "nbformat": 4,
 "nbformat_minor": 4
}
