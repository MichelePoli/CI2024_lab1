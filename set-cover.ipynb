{
 "cells": [
  {
   "cell_type": "markdown",
   "metadata": {},
   "source": [
    "Copyright **`(c)`** 2024 Giovanni Squillero `<giovanni.squillero@polito.it>`  \n",
    "[`https://github.com/squillero/computational-intelligence`](https://github.com/squillero/computational-intelligence)  \n",
    "Free for personal or classroom use; see [`LICENSE.md`](https://github.com/squillero/computational-intelligence/blob/master/LICENSE.md) for details.  "
   ]
  },
  {
   "cell_type": "markdown",
   "metadata": {},
   "source": [
    "# Set Cover problem\n",
    "\n",
    "See: https://en.wikipedia.org/wiki/Set_cover_problem"
   ]
  },
  {
   "cell_type": "code",
   "execution_count": 170,
   "metadata": {},
   "outputs": [],
   "source": [
    "from random import random, seed\n",
    "from itertools import product\n",
    "import numpy as np\n",
    "\n",
    "from icecream import ic"
   ]
  },
  {
   "cell_type": "markdown",
   "metadata": {},
   "source": [
    "## Reproducible Initialization\n",
    "\n",
    "If you want to get reproducible results, use `rng` (and restart the kernel); for non-reproducible ones, use `np.random`."
   ]
  },
  {
   "cell_type": "code",
   "execution_count": 171,
   "metadata": {},
   "outputs": [],
   "source": [
    "UNIVERSE_SIZE = 1000\n",
    "NUM_SETS = 100\n",
    "DENSITY = 0.2 # 20% of the elements are in each set\n",
    "\n",
    "rng = np.random.Generator(np.random.PCG64([UNIVERSE_SIZE, NUM_SETS, int(10_000 * DENSITY)])) #rng is the random number generator, so we can use it to generate random numbers"
   ]
  },
  {
   "cell_type": "code",
   "execution_count": 172,
   "metadata": {},
   "outputs": [],
   "source": [
    "# DON'T EDIT THESE LINES!\n",
    "\n",
    "SETS = np.random.random((NUM_SETS, UNIVERSE_SIZE)) < DENSITY #generate the sets\n",
    "for s in range(UNIVERSE_SIZE): #ensure that each element is in at least one set\n",
    "    if not np.any(SETS[:, s]): #if the element is not in any set\n",
    "        SETS[np.random.randint(NUM_SETS), s] = True #add it to a random set\n",
    "COSTS = np.power(SETS.sum(axis=1), 1.1) #compute the costs of each set #the costs? -> the number of elements in the set to the power of 1.1"
   ]
  },
  {
   "cell_type": "markdown",
   "metadata": {},
   "source": [
    "## Helper Functions"
   ]
  },
  {
   "cell_type": "code",
   "execution_count": 173,
   "metadata": {},
   "outputs": [],
   "source": [
    "def valid(solution):\n",
    "    \"\"\"Checks wether solution is valid (ie. covers all universe)\"\"\"\n",
    "    return np.all(np.logical_or.reduce(SETS[solution])) #check if all elements are in at least one set\n",
    "\n",
    "\n",
    "def cost(solution):\n",
    "    \"\"\"Returns the cost of a solution (to be minimized)\"\"\"\n",
    "    return COSTS[solution].sum() #return the sum of the costs of the sets in the solution "
   ]
  },
  {
   "cell_type": "markdown",
   "metadata": {},
   "source": [
    "## Have Fun!"
   ]
  },
  {
   "cell_type": "code",
   "execution_count": 174,
   "metadata": {},
   "outputs": [
    {
     "data": {
      "text/plain": [
       "(True, 34023.83523034387)"
      ]
     },
     "execution_count": 174,
     "metadata": {},
     "output_type": "execute_result"
    }
   ],
   "source": [
    "# A dumb solution of \"all\" sets\n",
    "solution = np.full(NUM_SETS, True) \n",
    "valid(solution), cost(solution) \n",
    "\n",
    "#(True, 841030176.2660773) #the solution is valid and the cost is 841030176.2660773"
   ]
  },
  {
   "cell_type": "code",
   "execution_count": 175,
   "metadata": {},
   "outputs": [
    {
     "name": "stdout",
     "output_type": "stream",
     "text": [
      "solution: [False  True  True False False False False False False False False False\n",
      " False False  True  True  True  True False False  True False False  True\n",
      "  True  True  True False False  True  True  True False False  True  True\n",
      " False  True False False  True  True False False  True False  True False\n",
      " False  True  True  True  True False  True  True False False False  True\n",
      "  True False False False False False  True  True  True  True False False\n",
      "  True  True  True False False  True  True  True False False False  True\n",
      "  True False False False False  True False  True False  True  True False\n",
      " False False  True  True]\n"
     ]
    },
    {
     "data": {
      "text/plain": [
       "(True, 16225.557691518967)"
      ]
     },
     "execution_count": 175,
     "metadata": {},
     "output_type": "execute_result"
    }
   ],
   "source": [
    "# A random solution with random 50% of the sets\n",
    "solution = rng.random(NUM_SETS) < .5 #generate a random solution. Each set is in the solution with 50% probability\n",
    "print(\"solution:\", solution)\n",
    "valid(solution), cost(solution)\n",
    "\n",
    "#(True, 420515088.13303865) #the solution is valid and the cost is 420515088.13303865"
   ]
  },
  {
   "cell_type": "code",
   "execution_count": 176,
   "metadata": {},
   "outputs": [],
   "source": [
    "#Solve efficiently these instances\n",
    "# Instance\tUniverse size\tNum sets\tDensity\n",
    "# 1\t100\t10\t.2 #is possible to resolve it by brute force? -> \n",
    "# 2\t1,000\t100\t.2\n",
    "# 3\t10,000\t1,000\t2\n",
    "# 4\t100,000\t10,000\t.1\n",
    "# 5\t100,000\t10,000\t\n",
    "# 6\t100,000\t10,000\t.3 \n"
   ]
  },
  {
   "cell_type": "code",
   "execution_count": 177,
   "metadata": {},
   "outputs": [],
   "source": [
    "# SETS = np.random.random((NUM_SETS, UNIVERSE_SIZE)) < DENSITY #generate the sets\n",
    "# for s in range(UNIVERSE_SIZE): #ensure that each element is in at least one set\n",
    "#     if not np.any(SETS[:, s]): #if the element is not in any set\n",
    "#         SETS[np.random.randint(NUM_SETS), s] = True #add it to a random set\n",
    "# COSTS = np.power(SETS.sum(axis=1), 1.1) #compute the costs of each set #the costs? -> the number of elements in the set to the power of 1.1\n",
    "#COSTS\n",
    "#SETS #why we have false and true values? -> the elements are in the set or not\n",
    "\n",
    "#-------------\n",
    "# we have for example 1 2 3 in the universe of elements and we have 3 sets with the elements 1 2, 1 3, 2 3\n",
    "# the first set (which includes true/false repeated for the number of elements in the elements universe) will be [True, True, False] because the elements 1 and 2 are in the set and the element 3 is not in the set. Then we have [True, False, True] and [False, True, True].\n",
    "# to represent the universe with the sets we can see the first set and see where is false. then we can see the second set and see if where before was false now is true. if the 'or' operation (union) before the first set and second set computes a set of all True values then the solution is valid. otherwise i continue with the third set. \n",
    "\n",
    "# we can do:\n",
    "# 1 Start with an empty solution (no sets selected).\n",
    "# 2 While there are uncovered elements in the universe:\n",
    "# Select the set that covers the largest number of uncovered elements.\n",
    "# Add that set to the solution.\n",
    "# 3 Continue until the union of selected sets covers the entire universe.\n",
    "\n",
    "#A solution is valid only if, after selecting some sets, the union of those sets contains only True values.\n"
   ]
  },
  {
   "cell_type": "code",
   "execution_count": 178,
   "metadata": {},
   "outputs": [],
   "source": [
    "def greedy_set_cover(SETS, UNIVERSE_SIZE):\n",
    "    # SETS is a NumPy array of shape (NUM_SETS, UNIVERSE_SIZE) where each row represents a set\n",
    "    #print(\"sets are:\", SETS)\n",
    "    uncovered = np.ones(UNIVERSE_SIZE, dtype=bool)  # Track which elements are uncovered (all True initially) #np.ones ? -> create an array of ones\n",
    "    selected_sets = []  # Store the indices of selected sets #empty list initially, then we will add the indices of the selected sets where \n",
    "    \n",
    "    while np.any(uncovered):  # While there are still uncovered elements #np.any() here used to check whether any set covers a specific element or to verify if all elements of the universe are covered by the selected sets.\n",
    "        # Choose the set that covers the most uncovered elements\n",
    "        best_set_idx = None\n",
    "        best_coverage = 0\n",
    "        \n",
    "        for i, set_i in enumerate(SETS): #enumerate? -> returns an enumerate object. It contains the index and value of all the items in the set as pairs. example: enumerate(sets) -> [(0, [True, True, False]), (1, [True, False, True]), (2, [False, True, True])]\n",
    "            coverage = np.sum(uncovered & set_i)  # Count how many uncovered elements this set can cover #example -> uncovered = [True, True, True], set_i = [True, True, False], uncovered & set_i = [True, True, False] -> np.sum([True, True, False]) = 2\n",
    "            if coverage > best_coverage: \n",
    "                best_coverage = coverage \n",
    "                best_set_idx = i #store the index of the set that covers the most uncovered elements\n",
    "        \n",
    "        if best_set_idx is None: #if there is no set that covers any remaining elements \n",
    "            # If no set can cover any remaining elements, it's impossible to cover the universe\n",
    "            raise ValueError(\"No valid set cover found!\")\n",
    "        \n",
    "        # Add the best set to the solution and update the uncovered elements\n",
    "        selected_sets.append(best_set_idx) #add the index of the best set to the selected sets\n",
    "        uncovered = uncovered & ~SETS[best_set_idx]  # Mark elements covered by this set as covered (False) #update the uncovered elements by removing the elements that are covered by the best set #example -> uncovered = [True, True, True], SETS[best_set_idx] = [True, True, False], ~SETS[best_set_idx] = [False, False, True], uncovered & ~SETS[best_set_idx] = [True, True, False]\n",
    "    print(\"\\nselected sets:\", SETS[selected_sets]) \n",
    "    return selected_sets #return the indices of the selected sets. if we want to return the matrix with the selected sets we can use SETS[selected_sets]\n",
    "\n",
    "#we are not sure that the solution is valid. we have a probabilstic approach, taking the set that covers the most uncovered elements and we 'hope' that the union of the selected sets will cover the entire universe.\n",
    "\n"
   ]
  },
  {
   "cell_type": "code",
   "execution_count": 179,
   "metadata": {},
   "outputs": [
    {
     "name": "stdout",
     "output_type": "stream",
     "text": [
      "\n",
      "selected sets: [[False False  True ...  True False False]\n",
      " [False False False ... False False  True]\n",
      " [False False False ... False False False]\n",
      " ...\n",
      " [False False False ... False False False]\n",
      " [False False False ... False False False]\n",
      " [False False False ... False False  True]]\n",
      "\n",
      "Selected sets - indexes: [49, 61, 14, 41, 40, 15, 2, 87, 24, 42, 68, 86, 35, 51, 9, 67, 4, 47]\n",
      "\n",
      "Selected sets - len indexes: 18\n",
      "\n",
      "Is the solution valid? True\n",
      "Total cost of the solution: 6300.920399618765\n"
     ]
    }
   ],
   "source": [
    "# Compute the solution using the greedy algorithm\n",
    "solution_indices = greedy_set_cover(SETS, UNIVERSE_SIZE)\n",
    "\n",
    "# Check if the solution is valid and compute its cost\n",
    "print(\"\\nSelected sets - indexes:\", solution_indices)\n",
    "print(\"\\nSelected sets - len indexes:\", len(solution_indices))\n",
    "is_valid = valid(solution_indices)\n",
    "solution_cost = cost(solution_indices)\n",
    "\n",
    "print(f\"\\nIs the solution valid? {is_valid}\")\n",
    "print(f\"Total cost of the solution: {solution_cost}\")"
   ]
  },
  {
   "cell_type": "code",
   "execution_count": null,
   "metadata": {},
   "outputs": [],
   "source": []
  }
 ],
 "metadata": {
  "kernelspec": {
   "display_name": "Python 3 (ipykernel)",
   "language": "python",
   "name": "python3"
  },
  "language_info": {
   "codemirror_mode": {
    "name": "ipython",
    "version": 3
   },
   "file_extension": ".py",
   "mimetype": "text/x-python",
   "name": "python",
   "nbconvert_exporter": "python",
   "pygments_lexer": "ipython3",
   "version": "3.8.10"
  }
 },
 "nbformat": 4,
 "nbformat_minor": 4
}
